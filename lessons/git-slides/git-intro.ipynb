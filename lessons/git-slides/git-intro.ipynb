{
 "metadata": {
  "name": ""
 },
 "nbformat": 3,
 "nbformat_minor": 0,
 "worksheets": [
  {
   "cells": [
    {
     "cell_type": "markdown",
     "metadata": {
      "slideshow": {
       "slide_type": "skip"
      }
     },
     "source": [
      "With help from Ariel Rokem, Julia Gustavsen, \n",
      "Fernando Perez, Karthik Ram, Matthew Brett and illustrations from Scott Chacon's pro-git book"
     ]
    },
    {
     "cell_type": "markdown",
     "metadata": {
      "slideshow": {
       "slide_type": "slide"
      }
     },
     "source": [
      "# Intro to practical version control for scientists"
     ]
    },
    {
     "cell_type": "markdown",
     "metadata": {
      "slideshow": {
       "slide_type": "slide"
      }
     },
     "source": [
      "## Who here uses a version control system?"
     ]
    },
    {
     "cell_type": "markdown",
     "metadata": {
      "slideshow": {
       "slide_type": "slide"
      }
     },
     "source": [
      "<img src=\"http://www.phdcomics.com/comics/archive/phd052810s.gif\" width=\"90%\">"
     ]
    },
    {
     "cell_type": "markdown",
     "metadata": {
      "slideshow": {
       "slide_type": "slide"
      }
     },
     "source": [
      "### What is version control and what does it do for us?\n"
     ]
    },
    {
     "cell_type": "markdown",
     "metadata": {
      "slideshow": {
       "slide_type": "fragment"
      }
     },
     "source": [
      "- Reproducibility : logging of every step, complete project history"
     ]
    },
    {
     "cell_type": "markdown",
     "metadata": {
      "slideshow": {
       "slide_type": "fragment"
      }
     },
     "source": [
      "- Peace of mind : a robust backup system of changing files\n"
     ]
    },
    {
     "cell_type": "markdown",
     "metadata": {
      "slideshow": {
       "slide_type": "fragment"
      }
     },
     "source": [
      "- Collaboration : synchronize same files across multiple computers/people"
     ]
    },
    {
     "cell_type": "markdown",
     "metadata": {
      "slideshow": {
       "slide_type": "slide"
      }
     },
     "source": [
      "<img src=\"http://www.math.ubc.ca/~konradbe/swc-git/1.png\" width=\"80%\">"
     ]
    },
    {
     "cell_type": "markdown",
     "metadata": {
      "slideshow": {
       "slide_type": "subslide"
      }
     },
     "source": [
      "<img src=\"http://www.math.ubc.ca/~konradbe/swc-git/2.png\" width=\"80%\">"
     ]
    },
    {
     "cell_type": "markdown",
     "metadata": {
      "slideshow": {
       "slide_type": "subslide"
      }
     },
     "source": [
      "<img src=\"http://www.math.ubc.ca/~konradbe/swc-git/3.png\" width=\"80%\">"
     ]
    },
    {
     "cell_type": "markdown",
     "metadata": {
      "slideshow": {
       "slide_type": "subslide"
      }
     },
     "source": [
      "<img src=\"http://www.math.ubc.ca/~konradbe/swc-git/4.png\" width=\"80%\">"
     ]
    },
    {
     "cell_type": "markdown",
     "metadata": {
      "slideshow": {
       "slide_type": "slide"
      }
     },
     "source": [
      "<img src=\"http://disinfo.s3.amazonaws.com/wp-content/uploads/2013/11/huh.jpg\" width=\"80%\">"
     ]
    },
    {
     "cell_type": "markdown",
     "metadata": {
      "slideshow": {
       "slide_type": "subslide"
      }
     },
     "source": [
      "<img src=\"http://www.fastcompany.com/multisite_files/fastcompany/imagecache/large/fc_files/mcp2010/888-ben-huh-slide-2.jpg\" width=\"80%\">"
     ]
    },
    {
     "cell_type": "markdown",
     "metadata": {
      "slideshow": {
       "slide_type": "slide"
      }
     },
     "source": [
      "<img src=\"http://www.math.ubc.ca/~konradbe/swc-git/meanwhileInVC.png\" width=\"80%\">"
     ]
    },
    {
     "cell_type": "markdown",
     "metadata": {
      "slideshow": {
       "slide_type": "slide"
      }
     },
     "source": [
      "<img src=\"http://www.math.ubc.ca/~konradbe/swc-git/better1.png\" width=\"80%\">"
     ]
    },
    {
     "cell_type": "markdown",
     "metadata": {
      "slideshow": {
       "slide_type": "subslide"
      }
     },
     "source": [
      "<img src=\"http://www.math.ubc.ca/~konradbe/swc-git/better2.png\" width=\"80%\">"
     ]
    },
    {
     "cell_type": "markdown",
     "metadata": {
      "slideshow": {
       "slide_type": "subslide"
      }
     },
     "source": [
      "<img src=\"http://www.math.ubc.ca/~konradbe/swc-git/better3.png\" width=\"80%\">"
     ]
    },
    {
     "cell_type": "markdown",
     "metadata": {
      "slideshow": {
       "slide_type": "subslide"
      }
     },
     "source": [
      "<img src=\"http://www.math.ubc.ca/~konradbe/swc-git/better4.png\" width=\"80%\">"
     ]
    },
    {
     "cell_type": "markdown",
     "metadata": {
      "slideshow": {
       "slide_type": "subslide"
      }
     },
     "source": [
      "<img src=\"http://www.math.ubc.ca/~konradbe/swc-git/better5.png\" width=\"80%\">"
     ]
    },
    {
     "cell_type": "markdown",
     "metadata": {
      "slideshow": {
       "slide_type": "subslide"
      }
     },
     "source": [
      "<img src=\"http://www.math.ubc.ca/~konradbe/swc-git/better1.png\" width=\"80%\">"
     ]
    },
    {
     "cell_type": "markdown",
     "metadata": {
      "slideshow": {
       "slide_type": "slide"
      }
     },
     "source": [
      "### Side benefits from Version Control"
     ]
    },
    {
     "cell_type": "markdown",
     "metadata": {},
     "source": [
      "* no overwrites\n",
      "* blame is evident\n",
      "* nothing is ever los\n",
      "* freedom to experiment"
     ]
    },
    {
     "cell_type": "markdown",
     "metadata": {
      "slideshow": {
       "slide_type": "fragment"
      }
     },
     "source": [
      "### Can I only use this for code?"
     ]
    },
    {
     "cell_type": "markdown",
     "metadata": {},
     "source": [
      "* Version control works for any file format (code, pdfs, docs, xls, jpg, etc.)\n",
      "* ... but works **best** for text-based files (txt, R, Matlab, any other code)"
     ]
    },
    {
     "cell_type": "markdown",
     "metadata": {
      "slideshow": {
       "slide_type": "slide"
      }
     },
     "source": [
      "## Introducing `git`\n"
     ]
    },
    {
     "cell_type": "markdown",
     "metadata": {},
     "source": [
      "We will be using git\n",
      "\n",
      "<img src=\"https://github-camo.global.ssl.fastly.net/233e6dc4e0b7db13dea0ee1164c9eaac875269db/687474703a2f2f636c2e6c792f31493233336a316c3258336333313143314331482f4769742d4c6f676f2d32436f6c6f722e706e67\" width=\"30%\"> &nbsp;&nbsp;&nbsp;&nbsp;&nbsp;&nbsp;&nbsp;&nbsp;&nbsp;&nbsp;&nbsp;&nbsp;&nbsp;&nbsp;&nbsp;<img src=\"http://git-scm.com/images/branching-illustration@2x.png\" width=\"30%\">\n",
      "\n",
      "There are many others (subversion, mercurial, bazaar, etc.)"
     ]
    },
    {
     "cell_type": "markdown",
     "metadata": {
      "slideshow": {
       "slide_type": "slide"
      }
     },
     "source": [
      "### How are we going to learn how to use git?"
     ]
    },
    {
     "cell_type": "markdown",
     "metadata": {
      "slideshow": {
       "slide_type": "-"
      }
     },
     "source": [
      "* Simple git commands are native in **RStudio** <img src=\"http://marcoghislanzoni.com/blog/wp-content/uploads/2013/10/RStudio.png\" width=\"10%\">\n",
      "* Tomorrow: More complex tasks (*read: powerful but a little more complitacted*)\n",
      "* Tomorrow: How to collaborate using *github* <img src=\"http://wptavern.com/wp-content/uploads/2013/10/github-logo.png\" width=\"20%\">"
     ]
    }
   ],
   "metadata": {}
  }
 ]
}